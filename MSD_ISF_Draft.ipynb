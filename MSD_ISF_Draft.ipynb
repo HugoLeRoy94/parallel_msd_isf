{
 "cells": [
  {
   "cell_type": "code",
   "execution_count": 84,
   "metadata": {},
   "outputs": [],
   "source": [
    "#import importlib\n",
    "#import Compute_evolution_of_clusters\n",
    "#importlib.reload(Compute_evolution_of_clusters)\n",
    "#from Compute_evolution_of_clusters import *\n",
    "import numpy as np\n",
    "import matplotlib.cm as cm\n",
    "import matplotlib.pyplot as plt\n",
    "import sys\n",
    "\n",
    "sys.path.append('/home/hcleroy/PostDoc/aging_condensates/Simulation/Gillespie/Analysis/')\n",
    "sys.path.append('/home/hugo/PostDoc/aging_condensates/Gillespie/Analysis/')\n",
    "from ToolBox import *\n",
    "\n",
    "sys.path.append('/home/hcleroy/Extra_Module_py')\n",
    "sys.path.append('/home/hugo/Extra_Module_py')\n",
    "import formated_matplotlib\n",
    "\n",
    "Ec = lambda L,N : 3/2*np.log(L/N* np.pi/3)\n",
    "\n",
    "sys.path.append('/home/hcleroy/PostDoc/aging_condensates/Simulation/Gillespie/Gillespie_backend/')\n",
    "sys.path.append('/home/hugo/PostDoc/aging_condensates/Gillespie/Gillespie_backend/')\n",
    "import Gillespie_backend as gil\n"
   ]
  },
  {
   "cell_type": "code",
   "execution_count": 2,
   "metadata": {},
   "outputs": [
    {
     "name": "stdout",
     "output_type": "stream",
     "text": [
      "5.937210903914155\n"
     ]
    }
   ],
   "source": [
    "# gillespie parameter\n",
    "Nlinker = 20\n",
    "ell_tot = 10**3\n",
    "V = 2*((ell_tot/6)**1.5/Nlinker**0.5*3/4*np.pi)\n",
    "#kdiff = 100/(V) # for 3D\n",
    "kdiff = 1.\n",
    "Energy = -15\n",
    "Nprocess = 10\n",
    "args = [[ell_tot,Energy,kdiff,np.random.randint(1000000),Nlinker,3] for _ in range(Nprocess)]\n",
    "print(Ec(ell_tot,Nlinker))\n",
    "# Simulation parameters\n",
    "step_tot = 200000\n",
    "compute_steps = 10000"
   ]
  },
  {
   "cell_type": "code",
   "execution_count": 69,
   "metadata": {},
   "outputs": [],
   "source": [
    "gillespie = gil.Gillespie(ell_tot=ell_tot, rho0=0., BindingEnergy=Energy, kdiff=kdiff,\n",
    "                            seed=6542, sliding=False, Nlinker=Nlinker, old_gillespie=None, dimension=3)"
   ]
  },
  {
   "cell_type": "markdown",
   "metadata": {},
   "source": [
    "def compute_MSD(gillespie,output,step_tot,check_steps,q_vector):\n",
    "    msd_time = np.zeros((step_tot//check_steps,2),dtype=float)\n",
    "    r_cumul = np.zeros(gillespie.N,dtype=float)  # the cumulated displacement of the particles\n",
    "    initial_positions = gillespie.get_r()\n",
    "    current_time = 0\n",
    "    prev_position = gillespie.get_r()\n",
    "    for n in range((step_tot//check_steps)):\n",
    "        for t in range(check_steps):\n",
    "            move,time = gillespie.evolve()\n",
    "            current_time += np.sum(time)\n",
    "            if move[0] == 1:\n",
    "                dr = gillespie.get_r() - prev_position # vector of dimension N x 3\n",
    "                prev_position = gillespie.get_r()\n",
    "\n",
    "                part_cross_boundary = np.argwhere(np.linalg.norm(dr)>1)\n",
    "                if np.linalg.norm(dr)>1.:\n",
    "                    # reajust the value of dr\n",
    "                    dr = \n",
    "                r_cumul+=dr\n",
    "            msd_time[n] = [current_time, np.mean(dr**2)]\n",
    "    return msd_time"
   ]
  },
  {
   "cell_type": "code",
   "execution_count": 56,
   "metadata": {},
   "outputs": [],
   "source": [
    "def Follow_trajectory(gillespie,step_tot,periodic = False):\n",
    "    trajectory = np.zeros((step_tot,gillespie.Nlinker,3),dtype=float)\n",
    "    time = np.zeros(step_tot,dtype=float)\n",
    "    for t in range(step_tot):\n",
    "        trajectory[t] = gillespie.get_r(periodic)\n",
    "        move,dt = gillespie.evolve()        \n",
    "        if t>1:\n",
    "            time[t] = time[t-1]+dt[0]\n",
    "        else:\n",
    "            time[t] =dt[0]\n",
    "    return trajectory,time\n"
   ]
  },
  {
   "cell_type": "code",
   "execution_count": 57,
   "metadata": {},
   "outputs": [],
   "source": [
    "trajectories,time = Follow_trajectory(gillespie,10000,True)"
   ]
  },
  {
   "cell_type": "code",
   "execution_count": 58,
   "metadata": {},
   "outputs": [
    {
     "data": {
      "text/plain": [
       "[<matplotlib.lines.Line2D at 0x7fb6d2aee820>]"
      ]
     },
     "execution_count": 58,
     "metadata": {},
     "output_type": "execute_result"
    },
    {
     "data": {
      "image/png": "[encoded data removed]",
      "text/plain": [
       "<Figure size 334.646x251.613 with 1 Axes>"
      ]
     },
     "metadata": {},
     "output_type": "display_data"
    }
   ],
   "source": [
    "plt.plot(time,np.mean(np.linalg.norm(trajectories-trajectories[0],axis=2)**2,axis=1))\n",
    "#plt.xlim(0,0.2*10**(-6))\n",
    "#plt.ylim(-0.5,1)"
   ]
  },
  {
   "cell_type": "code",
   "execution_count": 92,
   "metadata": {},
   "outputs": [],
   "source": [
    "def compute_MSD(gillespie,output,step_tot,check_steps,q_vector):        \n",
    "    msd_time_list = list()\n",
    "    for n in range((step_tot//check_steps)):\n",
    "        current_time = 0\n",
    "        #msd_time = np.zeros((step_tot//check_steps,2),dtype=float)\n",
    "        initial_positions = gillespie.get_r(periodic = True)\n",
    "        move,time = gillespie.evolve(check_steps)\n",
    "        current_time += np.sum(time)\n",
    "        msd_time = np.array([current_time, np.mean(np.linalg.norm(initial_positions - gillespie.get_r(periodic=True),axis=2)**2)])\n",
    "        msd_time_list.append(msd_time)\n",
    "    return msd_time_list\n",
    "            "
   ]
  },
  {
   "cell_type": "code",
   "execution_count": 93,
   "metadata": {},
   "outputs": [
    {
     "ename": "AxisError",
     "evalue": "axis 2 is out of bounds for array of dimension 2",
     "output_type": "error",
     "traceback": [
      "\u001b[0;31m---------------------------------------------------------------------------\u001b[0m",
      "\u001b[0;31mAxisError\u001b[0m                                 Traceback (most recent call last)",
      "Cell \u001b[0;32mIn[93], line 1\u001b[0m\n\u001b[0;32m----> 1\u001b[0m MSD_t \u001b[38;5;241m=\u001b[39m \u001b[43mcompute_MSD\u001b[49m\u001b[43m(\u001b[49m\u001b[43mgillespie\u001b[49m\u001b[43m,\u001b[49m\u001b[38;5;28;43;01mNone\u001b[39;49;00m\u001b[43m,\u001b[49m\u001b[38;5;241;43m10000\u001b[39;49m\u001b[43m,\u001b[49m\u001b[38;5;241;43m1000\u001b[39;49m\u001b[43m,\u001b[49m\u001b[38;5;28;43;01mNone\u001b[39;49;00m\u001b[43m)\u001b[49m\n",
      "Cell \u001b[0;32mIn[92], line 9\u001b[0m, in \u001b[0;36mcompute_MSD\u001b[0;34m(gillespie, output, step_tot, check_steps, q_vector)\u001b[0m\n\u001b[1;32m      7\u001b[0m     move,time \u001b[38;5;241m=\u001b[39m gillespie\u001b[38;5;241m.\u001b[39mevolve(check_steps)\n\u001b[1;32m      8\u001b[0m     current_time \u001b[38;5;241m+\u001b[39m\u001b[38;5;241m=\u001b[39m np\u001b[38;5;241m.\u001b[39msum(time)\n\u001b[0;32m----> 9\u001b[0m     msd_time \u001b[38;5;241m=\u001b[39m np\u001b[38;5;241m.\u001b[39marray([current_time, np\u001b[38;5;241m.\u001b[39mmean(\u001b[43mnp\u001b[49m\u001b[38;5;241;43m.\u001b[39;49m\u001b[43mlinalg\u001b[49m\u001b[38;5;241;43m.\u001b[39;49m\u001b[43mnorm\u001b[49m\u001b[43m(\u001b[49m\u001b[43minitial_positions\u001b[49m\u001b[43m \u001b[49m\u001b[38;5;241;43m-\u001b[39;49m\u001b[43m \u001b[49m\u001b[43mgillespie\u001b[49m\u001b[38;5;241;43m.\u001b[39;49m\u001b[43mget_r\u001b[49m\u001b[43m(\u001b[49m\u001b[43mperiodic\u001b[49m\u001b[38;5;241;43m=\u001b[39;49m\u001b[38;5;28;43;01mTrue\u001b[39;49;00m\u001b[43m)\u001b[49m\u001b[43m,\u001b[49m\u001b[43maxis\u001b[49m\u001b[38;5;241;43m=\u001b[39;49m\u001b[38;5;241;43m2\u001b[39;49m\u001b[43m)\u001b[49m\u001b[38;5;241m*\u001b[39m\u001b[38;5;241m*\u001b[39m\u001b[38;5;241m2\u001b[39m)])\n\u001b[1;32m     10\u001b[0m     msd_time_list\u001b[38;5;241m.\u001b[39mappend(msd_time)\n\u001b[1;32m     11\u001b[0m \u001b[38;5;28;01mreturn\u001b[39;00m msd_time_list\n",
      "File \u001b[0;32m<__array_function__ internals>:200\u001b[0m, in \u001b[0;36mnorm\u001b[0;34m(*args, **kwargs)\u001b[0m\n",
      "File \u001b[0;32m~/anaconda3/lib/python3.8/site-packages/numpy/linalg/linalg.py:2542\u001b[0m, in \u001b[0;36mnorm\u001b[0;34m(x, ord, axis, keepdims)\u001b[0m\n\u001b[1;32m   2539\u001b[0m \u001b[38;5;28;01melif\u001b[39;00m \u001b[38;5;28mord\u001b[39m \u001b[38;5;129;01mis\u001b[39;00m \u001b[38;5;28;01mNone\u001b[39;00m \u001b[38;5;129;01mor\u001b[39;00m \u001b[38;5;28mord\u001b[39m \u001b[38;5;241m==\u001b[39m \u001b[38;5;241m2\u001b[39m:\n\u001b[1;32m   2540\u001b[0m     \u001b[38;5;66;03m# special case for speedup\u001b[39;00m\n\u001b[1;32m   2541\u001b[0m     s \u001b[38;5;241m=\u001b[39m (x\u001b[38;5;241m.\u001b[39mconj() \u001b[38;5;241m*\u001b[39m x)\u001b[38;5;241m.\u001b[39mreal\n\u001b[0;32m-> 2542\u001b[0m     \u001b[38;5;28;01mreturn\u001b[39;00m sqrt(\u001b[43madd\u001b[49m\u001b[38;5;241;43m.\u001b[39;49m\u001b[43mreduce\u001b[49m\u001b[43m(\u001b[49m\u001b[43ms\u001b[49m\u001b[43m,\u001b[49m\u001b[43m \u001b[49m\u001b[43maxis\u001b[49m\u001b[38;5;241;43m=\u001b[39;49m\u001b[43maxis\u001b[49m\u001b[43m,\u001b[49m\u001b[43m \u001b[49m\u001b[43mkeepdims\u001b[49m\u001b[38;5;241;43m=\u001b[39;49m\u001b[43mkeepdims\u001b[49m\u001b[43m)\u001b[49m)\n\u001b[1;32m   2543\u001b[0m \u001b[38;5;66;03m# None of the str-type keywords for ord ('fro', 'nuc')\u001b[39;00m\n\u001b[1;32m   2544\u001b[0m \u001b[38;5;66;03m# are valid for vectors\u001b[39;00m\n\u001b[1;32m   2545\u001b[0m \u001b[38;5;28;01melif\u001b[39;00m \u001b[38;5;28misinstance\u001b[39m(\u001b[38;5;28mord\u001b[39m, \u001b[38;5;28mstr\u001b[39m):\n",
      "\u001b[0;31mAxisError\u001b[0m: axis 2 is out of bounds for array of dimension 2"
     ]
    }
   ],
   "source": [
    "MSD_t = compute_MSD(gillespie,None,10000,1000,None)"
   ]
  },
  {
   "cell_type": "code",
   "execution_count": 91,
   "metadata": {},
   "outputs": [
    {
     "name": "stdout",
     "output_type": "stream",
     "text": [
      "[10.89833659 25.34643562]\n"
     ]
    }
   ],
   "source": [
    "print(MSD_t[0])"
   ]
  },
  {
   "cell_type": "code",
   "execution_count": 89,
   "metadata": {},
   "outputs": [
    {
     "name": "stderr",
     "output_type": "stream",
     "text": [
      "/tmp/ipykernel_50012/3837560282.py:1: MatplotlibDeprecationWarning: The get_cmap function was deprecated in Matplotlib 3.7 and will be removed two minor releases later. Use ``matplotlib.colormaps[name]`` or ``matplotlib.colormaps.get_cmap(obj)`` instead.\n",
      "  cmap = cm.get_cmap('viridis')\n"
     ]
    },
    {
     "ename": "IndexError",
     "evalue": "too many indices for array: array is 1-dimensional, but 2 were indexed",
     "output_type": "error",
     "traceback": [
      "\u001b[0;31m---------------------------------------------------------------------------\u001b[0m",
      "\u001b[0;31mIndexError\u001b[0m                                Traceback (most recent call last)",
      "Cell \u001b[0;32mIn[89], line 3\u001b[0m\n\u001b[1;32m      1\u001b[0m cmap \u001b[38;5;241m=\u001b[39m cm\u001b[38;5;241m.\u001b[39mget_cmap(\u001b[38;5;124m'\u001b[39m\u001b[38;5;124mviridis\u001b[39m\u001b[38;5;124m'\u001b[39m)\n\u001b[1;32m      2\u001b[0m \u001b[38;5;28;01mfor\u001b[39;00m i,msd_t \u001b[38;5;129;01min\u001b[39;00m \u001b[38;5;28menumerate\u001b[39m(MSD_t):\n\u001b[0;32m----> 3\u001b[0m     plt\u001b[38;5;241m.\u001b[39mscatter(\u001b[43mmsd_t\u001b[49m\u001b[43m[\u001b[49m\u001b[43m:\u001b[49m\u001b[43m,\u001b[49m\u001b[38;5;241;43m0\u001b[39;49m\u001b[43m]\u001b[49m,msd_t[:,\u001b[38;5;241m1\u001b[39m],color \u001b[38;5;241m=\u001b[39m cmap(i\u001b[38;5;241m/\u001b[39m\u001b[38;5;241m10\u001b[39m))\n",
      "\u001b[0;31mIndexError\u001b[0m: too many indices for array: array is 1-dimensional, but 2 were indexed"
     ]
    }
   ],
   "source": [
    "\n",
    "cmap = cm.get_cmap('viridis')\n",
    "for i,msd_t in enumerate(MSD_t):\n",
    "    plt.scatter(msd_t[:,0],msd_t[:,1],color = cmap(i/10))"
   ]
  },
  {
   "cell_type": "code",
   "execution_count": 3,
   "metadata": {},
   "outputs": [],
   "source": [
    "average_result_b = np.zeros((step_tot//compute_steps,2),dtype=float)\n",
    "with pt.open_file('c_size_20_linkers_Ell_10E3_b.hdf','r') as file:\n",
    "    n = 0\n",
    "    for array in file.list_nodes('/',classname='Array'):\n",
    "        average_result_b+=array\n",
    "        n+=1\n",
    "    average_result_b /= n"
   ]
  },
  {
   "cell_type": "code",
   "execution_count": 4,
   "metadata": {},
   "outputs": [
    {
     "name": "stdout",
     "output_type": "stream",
     "text": [
      "<bound method File.list_nodes of File(filename=c_size_20_linkers_Ell_10E3_b.hdf, title='', mode='r', root_uep='/', filters=Filters(complevel=0, shuffle=False, bitshuffle=False, fletcher32=False, least_significant_digit=None))\n",
      "/ (RootGroup) ''\n",
      "/av_clust_size_0x3488d (Array(20, 2)) ''\n",
      "  atom := Float64Atom(shape=(), dflt=0.0)\n",
      "  maindim := 0\n",
      "  flavor := 'numpy'\n",
      "  byteorder := 'little'\n",
      "  chunkshape := None\n",
      "/av_clust_size_0x45382 (Array(20, 2)) ''\n",
      "  atom := Float64Atom(shape=(), dflt=0.0)\n",
      "  maindim := 0\n",
      "  flavor := 'numpy'\n",
      "  byteorder := 'little'\n",
      "  chunkshape := None\n",
      "/av_clust_size_0x6c91e (Array(20, 2)) ''\n",
      "  atom := Float64Atom(shape=(), dflt=0.0)\n",
      "  maindim := 0\n",
      "  flavor := 'numpy'\n",
      "  byteorder := 'little'\n",
      "  chunkshape := None\n",
      "/av_clust_size_0x77420 (Array(20, 2)) ''\n",
      "  atom := Float64Atom(shape=(), dflt=0.0)\n",
      "  maindim := 0\n",
      "  flavor := 'numpy'\n",
      "  byteorder := 'little'\n",
      "  chunkshape := None\n",
      "/av_clust_size_0x7a643 (Array(20, 2)) ''\n",
      "  atom := Float64Atom(shape=(), dflt=0.0)\n",
      "  maindim := 0\n",
      "  flavor := 'numpy'\n",
      "  byteorder := 'little'\n",
      "  chunkshape := None\n",
      "/av_clust_size_0xa85ce (Array(20, 2)) ''\n",
      "  atom := Float64Atom(shape=(), dflt=0.0)\n",
      "  maindim := 0\n",
      "  flavor := 'numpy'\n",
      "  byteorder := 'little'\n",
      "  chunkshape := None\n",
      "/av_clust_size_0xae00c (Array(20, 2)) ''\n",
      "  atom := Float64Atom(shape=(), dflt=0.0)\n",
      "  maindim := 0\n",
      "  flavor := 'numpy'\n",
      "  byteorder := 'little'\n",
      "  chunkshape := None\n",
      "/av_clust_size_0xccbc4 (Array(20, 2)) ''\n",
      "  atom := Float64Atom(shape=(), dflt=0.0)\n",
      "  maindim := 0\n",
      "  flavor := 'numpy'\n",
      "  byteorder := 'little'\n",
      "  chunkshape := None\n",
      "/av_clust_size_0xce815 (Array(20, 2)) ''\n",
      "  atom := Float64Atom(shape=(), dflt=0.0)\n",
      "  maindim := 0\n",
      "  flavor := 'numpy'\n",
      "  byteorder := 'little'\n",
      "  chunkshape := None\n",
      "/av_clust_size_0xd9579 (Array(20, 2)) ''\n",
      "  atom := Float64Atom(shape=(), dflt=0.0)\n",
      "  maindim := 0\n",
      "  flavor := 'numpy'\n",
      "  byteorder := 'little'\n",
      "  chunkshape := None\n",
      ">\n"
     ]
    }
   ],
   "source": [
    "with pt.open_file('c_size_20_linkers_Ell_10E3_b.hdf','r') as file:\n",
    "    print(file.list_nodes)"
   ]
  },
  {
   "cell_type": "code",
   "execution_count": 10,
   "metadata": {},
   "outputs": [],
   "source": [
    "average_result = np.zeros((step_tot//compute_steps,2),dtype=float)\n",
    "with pt.open_file('c_size_20_linkers_Ell_10E3.hdf','r') as file:\n",
    "    n = 0\n",
    "    for array in file.list_nodes('/',classname='Array'):\n",
    "        average_result+=array\n",
    "        n+=1\n",
    "    average_result /= n"
   ]
  },
  {
   "cell_type": "code",
   "execution_count": 16,
   "metadata": {},
   "outputs": [
    {
     "data": {
      "text/plain": [
       "[<matplotlib.lines.Line2D at 0x7f758cbbcb20>]"
      ]
     },
     "execution_count": 16,
     "metadata": {},
     "output_type": "execute_result"
    },
    {
     "data": {
      "image/png": "[encoded data removed]",
      "text/plain": [
       "<Figure size 334.646x251.613 with 1 Axes>"
      ]
     },
     "metadata": {},
     "output_type": "display_data"
    }
   ],
   "source": [
    "plt.plot(average_result[:,0],average_result[:,1])\n",
    "plt.plot(average_result_b[:,0],average_result_b[:,1])"
   ]
  },
  {
   "cell_type": "code",
   "execution_count": null,
   "metadata": {},
   "outputs": [],
   "source": []
  }
 ],
 "metadata": {
  "kernelspec": {
   "display_name": "base",
   "language": "python",
   "name": "python3"
  },
  "language_info": {
   "codemirror_mode": {
    "name": "ipython",
    "version": 3
   },
   "file_extension": ".py",
   "mimetype": "text/x-python",
   "name": "python",
   "nbconvert_exporter": "python",
   "pygments_lexer": "ipython3",
   "version": "3.8.8"
  },
  "orig_nbformat": 4
 },
 "nbformat": 4,
 "nbformat_minor": 2
}
